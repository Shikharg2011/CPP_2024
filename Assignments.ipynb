{
 "cells": [
  {
   "cell_type": "markdown",
   "metadata": {},
   "source": [
    "# **Basic Python**"
   ]
  },
  {
   "cell_type": "markdown",
   "metadata": {},
   "source": [
    "## 1.a \n",
    "Give a function F that takes a single argument n. This function should print a sequence of n strings as described in the examples below: <br>\n",
    "Ex: **n = 3**\n",
    "\n",
    "--A--<br>\n",
    "-BAB-<br>\n",
    "CBABC<br>\n",
    "\n",
    "**n = 4**\n",
    "\n",
    "---A---<br>\n",
    "--BAB--<br>\n",
    "-CBABC-<br>\n",
    "DCBABCD"
   ]
  },
  {
   "cell_type": "code",
   "execution_count": 2,
   "metadata": {},
   "outputs": [
    {
     "name": "stdout",
     "output_type": "stream",
     "text": [
      "--A--\n",
      "-BAB-\n",
      "CBABC\n",
      "---A---\n",
      "--BAB--\n",
      "-CBABC-\n",
      "DCBABCD\n",
      "---------A---------\n",
      "--------BAB--------\n",
      "-------CBABC-------\n",
      "------DCBABCD------\n",
      "-----EDCBABCDE-----\n",
      "----FEDCBABCDEF----\n",
      "---GFEDCBABCDEFG---\n",
      "--HGFEDCBABCDEFGH--\n",
      "-IHGFEDCBABCDEFGHI-\n",
      "JIHGFEDCBABCDEFGHIJ\n",
      "-----A-----\n",
      "----BAB----\n",
      "---CBABC---\n",
      "--DCBABCD--\n",
      "-EDCBABCDE-\n",
      "FEDCBABCDEF\n"
     ]
    }
   ],
   "source": [
    "def F(n):\n",
    "    for i in range(n):\n",
    "        left_padding = '-' * (n - i - 1)\n",
    "        right_padding = left_padding\n",
    "        middle = ''.join([chr(ord('A') + abs(j)) for j in range(-i, i + 1)])\n",
    "        print(f\"{left_padding}{middle}{right_padding}\")\n",
    "\n",
    "# Tests\n",
    "F(3)\n",
    "F(4)\n",
    "F(10)\n",
    "F(6)"
   ]
  },
  {
   "cell_type": "markdown",
   "metadata": {},
   "source": [
    "## 1.b\n",
    "Make a function F that takes only one argument, a dictionary(dict) d.\n",
    "The keys of d are integers and the values of d are a tuple of type (x (int), y (int)).\n",
    "You must print out the dict in the format \"-key-, -x-, -y-\" with each entry in a new line. Print it for each of the three sorted orders, by key values ascending, by x values descending, by y values ascending."
   ]
  },
  {
   "cell_type": "code",
   "execution_count": 3,
   "metadata": {},
   "outputs": [
    {
     "name": "stdout",
     "output_type": "stream",
     "text": [
      "Sorted by key (ascending):\n",
      "-1-, -1-, -2-\n",
      "-2-, --1-, -4-\n",
      "-4-, -2-, -3-\n",
      "-5-, --4-, -3-\n",
      "\n",
      "Sorted by x (descending):\n",
      "-4-, -2-, -3-\n",
      "-1-, -1-, -2-\n",
      "-2-, --1-, -4-\n",
      "-5-, --4-, -3-\n",
      "\n",
      "Sorted by y (ascending):\n",
      "-1-, -1-, -2-\n",
      "-5-, --4-, -3-\n",
      "-4-, -2-, -3-\n",
      "-2-, --1-, -4-\n",
      "Sorted by key (ascending):\n",
      "--8-, -4-, -2-\n",
      "-5-, -9-, --10-\n",
      "-6-, --3-, -4-\n",
      "-7-, -2-, -1-\n",
      "\n",
      "Sorted by x (descending):\n",
      "-5-, -9-, --10-\n",
      "--8-, -4-, -2-\n",
      "-7-, -2-, -1-\n",
      "-6-, --3-, -4-\n",
      "\n",
      "Sorted by y (ascending):\n",
      "-5-, -9-, --10-\n",
      "-7-, -2-, -1-\n",
      "--8-, -4-, -2-\n",
      "-6-, --3-, -4-\n"
     ]
    }
   ],
   "source": [
    "def F(d: dict):\n",
    "    # Sorting by key ascending\n",
    "    print(\"Sorted by key (ascending):\")\n",
    "    for k, v in sorted(d.items()):\n",
    "        print(f\"-{k}-, -{v[0]}-, -{v[1]}-\")\n",
    "    \n",
    "    # Sorting by x descending\n",
    "    print(\"\\nSorted by x (descending):\")\n",
    "    for k, v in sorted(d.items(), key=lambda item: -item[1][0]):\n",
    "        print(f\"-{k}-, -{v[0]}-, -{v[1]}-\")\n",
    "    \n",
    "    # Sorting by y ascending\n",
    "    print(\"\\nSorted by y (ascending):\")\n",
    "    for k, v in sorted(d.items(), key=lambda item: item[1][1]):\n",
    "        print(f\"-{k}-, -{v[0]}-, -{v[1]}-\")\n",
    "\n",
    "# Tests\n",
    "F({1: (1, 2), 2: (-1, 4), 5: (-4, 3), 4: (2, 3)})\n",
    "F({-8: (4, 2), 6: (-3, 4), 7: (2, 1), 5: (9, -10)})\n"
   ]
  },
  {
   "cell_type": "markdown",
   "metadata": {},
   "source": [
    "## 2 Working with Student Records\n",
    "\n",
    "Use the data in **student_records.csv** to complete the given tasks. Do not include any external libraries. Use a Python dictionary if required.\n",
    "\n",
    "### Reference\n",
    "- [Python Dictionaries](https://www.w3schools.com/python/python_dictionaries.asp)\n"
   ]
  },
  {
   "cell_type": "markdown",
   "metadata": {},
   "source": [
    "#### 2.a: open the student_records.csv file and print out the first 10 rows"
   ]
  },
  {
   "cell_type": "code",
   "execution_count": null,
   "metadata": {},
   "outputs": [],
   "source": [
    "def read_csv(filename):\n",
    "    with open(filename, 'r') as f:\n",
    "        lines = f.readlines()\n",
    "    return [line.strip().split(',') for line in lines]\n",
    "\n",
    "data = read_csv('student_records.csv')\n",
    "print(\"First 10 rows:\")\n",
    "for row in data[:10]:\n",
    "    print(row)\n"
   ]
  },
  {
   "cell_type": "markdown",
   "metadata": {},
   "source": [
    "#### 2.b: Print out the total credits and calculte CPI of each student. \n",
    "CPI is the weighted average of core courses, and electives (weights being the letter grades converted to number AP,AA=10, AB=9, BB=9, BC=7, CC=6)"
   ]
  },
  {
   "cell_type": "code",
   "execution_count": null,
   "metadata": {},
   "outputs": [],
   "source": [
    "def calculate_cpi(data):\n",
    "    grade_map = {'AP': 10, 'AA': 10, 'AB': 9, 'BB': 8, 'BC': 7, 'CC': 6}\n",
    "    for student in data[1:]:\n",
    "        courses = student[3:]  # Assuming courses start from column 4\n",
    "        total_credits, total_points = 0, 0\n",
    "        for course in courses:\n",
    "            course_name, credits, grade = course.split('|')\n",
    "            credits = int(credits)\n",
    "            total_credits += credits\n",
    "            total_points += grade_map[grade] * credits\n",
    "        cpi = total_points / total_credits\n",
    "        print(f\"Student {student[0]} CPI: {cpi}\")\n",
    "\n",
    "calculate_cpi(data)\n"
   ]
  },
  {
   "cell_type": "markdown",
   "metadata": {},
   "source": [
    "#### 2.c: Print out the names of all students who meet the graduation requirements \n",
    "Atleast 20 credist of core course, 15 credits of department elective, 10 credits of flexible elective and 5 credits of hasmed electives"
   ]
  },
  {
   "cell_type": "code",
   "execution_count": null,
   "metadata": {},
   "outputs": [],
   "source": [
    "def filter_graduates(data):\n",
    "    graduation_reqs = {\n",
    "        'core': 20,\n",
    "        'dept_elective': 15,\n",
    "        'flexible': 10,\n",
    "        'hasmed': 5\n",
    "    }\n",
    "\n",
    "    for student in data[1:]:\n",
    "        category_totals = {'core': 0, 'dept_elective': 0, 'flexible': 0, 'hasmed': 0}\n",
    "        for course in student[3:]:\n",
    "            _, credits, tag = course.split('|')\n",
    "            if tag in category_totals:\n",
    "                category_totals[tag] += int(credits)\n",
    "\n",
    "        if all(category_totals[k] >= v for k, v in graduation_reqs.items()):\n",
    "            print(f\"Student {student[0]} meets graduation requirements.\")\n",
    "\n",
    "# Call the function after loading `data`\n",
    "filter_graduates(data)\n"
   ]
  },
  {
   "cell_type": "markdown",
   "metadata": {},
   "source": [
    "#### 2.d: Print out the names of all students who completed a minor \n",
    "Atleast 10 credits with minor tag in a specific department"
   ]
  },
  {
   "cell_type": "code",
   "execution_count": null,
   "metadata": {},
   "outputs": [],
   "source": [
    "def filter_minors(data):\n",
    "    minor_credit_requirement = 10\n",
    "\n",
    "    for student in data[1:]:\n",
    "        department_credits = {}\n",
    "        for course in student[3:]:\n",
    "            _, credits, tag = course.split('|')\n",
    "            if 'minor' in tag:\n",
    "                dept = tag.split('_')[1]  # Extract department\n",
    "                department_credits[dept] = department_credits.get(dept, 0) + int(credits)\n",
    "\n",
    "        for dept, total_credits in department_credits.items():\n",
    "            if total_credits >= minor_credit_requirement:\n",
    "                print(f\"Student {student[0]} completed a minor in {dept}.\")\n",
    "\n",
    "# Call the function after loading `data`\n",
    "filter_minors(data)"
   ]
  },
  {
   "cell_type": "markdown",
   "metadata": {},
   "source": [
    "#### 2.e: Print out the names of all students who completed a honours\n",
    "Atleast 10 credits with honours tag and 20 core credits"
   ]
  },
  {
   "cell_type": "code",
   "execution_count": null,
   "metadata": {},
   "outputs": [],
   "source": [
    "def filter_honours(data):\n",
    "    honours_credit_requirement = 10\n",
    "    core_credit_requirement = 20\n",
    "\n",
    "    for student in data[1:]:\n",
    "        honours_credits = 0\n",
    "        core_credits = 0\n",
    "        for course in student[3:]:\n",
    "            _, credits, tag = course.split('|')\n",
    "            credits = int(credits)\n",
    "            if 'honours' in tag:\n",
    "                honours_credits += credits\n",
    "            if 'core' in tag:\n",
    "                core_credits += credits\n",
    "\n",
    "        if honours_credits >= honours_credit_requirement and core_credits >= core_credit_requirement:\n",
    "            print(f\"Student {student[0]} completed honours requirements.\")\n",
    "\n",
    "# Call the function after loading `data`\n",
    "filter_honours(data)\n"
   ]
  },
  {
   "cell_type": "markdown",
   "metadata": {},
   "source": [
    "# **SciPy** "
   ]
  },
  {
   "cell_type": "markdown",
   "metadata": {},
   "source": [
    "## Part A\n",
    "Minimize the function $f(x, y) = 2(x - y - 3)^2 + 4(x + 2y + 1)^4$.<br>\n",
    "With the constraints : $ x - y \\ge -3, (x + 2)^2 + (y + 1)^2 \\le 5$ <br>\n",
    "Using scipy.optimize.minimize with constraints. (Hint: Look at the examples in the official documentation)"
   ]
  },
  {
   "cell_type": "code",
   "execution_count": null,
   "metadata": {},
   "outputs": [],
   "source": [
    "from scipy.optimize import minimize\n",
    "\n",
    "# Function to minimize\n",
    "def func(x):\n",
    "    return 2 * (x[0] - x[1] - 3)**2 + 4 * (x[0] + 2 * x[1] + 1)**4\n",
    "\n",
    "# Constraints\n",
    "constraints = [{'type': 'ineq', 'fun': lambda x: x[0] - x[1] + 3},\n",
    "               {'type': 'ineq', 'fun': lambda x: 5 - ((x[0] + 2)**2 + (x[1] + 1)**2)}]\n",
    "\n",
    "# Minimize\n",
    "result = minimize(func, [0, 0], constraints=constraints)\n",
    "print(\"Optimized variables:\", result.x)\n"
   ]
  },
  {
   "cell_type": "markdown",
   "metadata": {},
   "source": [
    "# Part B\n",
    "Evaluate the line integral of the function $f(x, y) = x^2 + y^4$ along the circle $ x^2 + y^2 = 3 $ anticlockwise (scalar integral, not vector). You must use scipy for integration but you may use parameterization"
   ]
  },
  {
   "cell_type": "code",
   "execution_count": null,
   "metadata": {},
   "outputs": [],
   "source": [
    "from scipy.integrate import quad\n",
    "import numpy as np\n",
    "\n",
    "# Parameterization of the circle\n",
    "def x(t): return np.sqrt(3) * np.cos(t)\n",
    "def y(t): return np.sqrt(3) * np.sin(t)\n",
    "\n",
    "# Integrand\n",
    "def integrand(t): return x(t)**2 + y(t)**4\n",
    "\n",
    "# Integration\n",
    "result, _ = quad(integrand, 0, 2 * np.pi)\n",
    "print(\"Line integral:\", result)\n"
   ]
  },
  {
   "cell_type": "markdown",
   "metadata": {},
   "source": [
    "# **Numpy**"
   ]
  },
  {
   "cell_type": "markdown",
   "metadata": {},
   "source": [
    "### Read Lisan_Al_Gaib.pdf for problem description and complete the following functions"
   ]
  },
  {
   "cell_type": "code",
   "execution_count": null,
   "metadata": {},
   "outputs": [],
   "source": [
    "import time # to time the execution\n",
    "import numpy as np\n",
    "import matplotlib.pyplot as plt"
   ]
  },
  {
   "cell_type": "code",
   "execution_count": null,
   "metadata": {},
   "outputs": [],
   "source": [
    "### TODO 1\n",
    "### Load data from data_path\n",
    "### Check the input file spice_locations.txt to understand the Data Format\n",
    "### Return : np array of size Nx2\n",
    "def load_data(data_path):\n",
    "    return np.loadtxt(data_path, delimiter=',')\n",
    "\n",
    "# Example Usage:\n",
    "# data = load_data('spice_locations.txt')\n"
   ]
  },
  {
   "cell_type": "code",
   "execution_count": null,
   "metadata": {},
   "outputs": [],
   "source": [
    "### TODO 2.1\n",
    "### If init_centers is None, initialize the centers by selecting K data points at random without replacement\n",
    "### Else, use the centers provided in init_centers\n",
    "### Return : np array of size Kx2\n",
    "def initialise_centers(data, K, init_centers=None):\n",
    "    if init_centers is None:\n",
    "        return data[np.random.choice(data.shape[0], K, replace=False)]\n",
    "    return init_centers"
   ]
  },
  {
   "cell_type": "code",
   "execution_count": null,
   "metadata": {},
   "outputs": [],
   "source": [
    "### TODO 2.2\n",
    "### Initialize the labels to all ones to size (N,) where N is the number of data points\n",
    "### Return : np array of size N\n",
    "def initialise_labels(data):\n",
    "    return None"
   ]
  },
  {
   "cell_type": "code",
   "execution_count": null,
   "metadata": {},
   "outputs": [],
   "source": [
    "### TODO 3.1 : E step\n",
    "### For Each data point, find the distance to each center\n",
    "### Return : np array of size NxK\n",
    "def calculate_distances(data, centers):\n",
    "    return np.linalg.norm(data[:, np.newaxis] - centers, axis=2)"
   ]
  },
  {
   "cell_type": "code",
   "execution_count": null,
   "metadata": {},
   "outputs": [],
   "source": [
    "### TODO 3.2 : E step\n",
    "### For Each data point, assign the label of the nearest center\n",
    "### Return : np array of size N\n",
    "def update_labels(distances):\n",
    "    return np.argmin(distances, axis=1)"
   ]
  },
  {
   "cell_type": "code",
   "execution_count": null,
   "metadata": {},
   "outputs": [],
   "source": [
    "### TODO 4 : M step\n",
    "### Update the centers to the mean of the data points assigned to it\n",
    "### Return : np array of size Kx2\n",
    "def update_centers(data, labels, K):\n",
    "    return np.array([data[labels == k].mean(axis=0) for k in range(K)])\n",
    "\n"
   ]
  },
  {
   "cell_type": "code",
   "execution_count": null,
   "metadata": {},
   "outputs": [],
   "source": [
    "### TODO 6 : Check convergence\n",
    "### Check if the labels have changed from the previous iteration\n",
    "### Return : True / False\n",
    "def check_termination(labels1, labels2):\n",
    "    return np.array_equal(labels1, labels2)"
   ]
  },
  {
   "cell_type": "code",
   "execution_count": null,
   "metadata": {},
   "outputs": [],
   "source": [
    "### DON'T CHANGE ANYTHING IN THE FOLLOWING FUNCTION\n",
    "def kmeans(data_path:str, K:int, init_centers):\n",
    "    '''\n",
    "    Input :\n",
    "        data (type str): path to the file containing the data\n",
    "        K (type int): number of clusters\n",
    "        init_centers (type numpy.ndarray): initial centers. shape = (K, 2) or None\n",
    "    Output :\n",
    "        centers (type numpy.ndarray): final centers. shape = (K, 2)\n",
    "        labels (type numpy.ndarray): label of each data point. shape = (N,)\n",
    "        time (type float): time taken by the algorithm to converge in seconds\n",
    "    N is the number of data points each of shape (2,)\n",
    "    '''\n",
    "    data = load_data(data_path)    \n",
    "    centers = initialise_centers(data, K, init_centers)\n",
    "    labels = initialise_labels(data)\n",
    "\n",
    "    start_time = time.time() # Time stamp \n",
    "\n",
    "    while True:\n",
    "        distances = calculate_distances(data, centers)\n",
    "        labels_new = update_labels(distances)\n",
    "        centers = update_centers(data, labels_new, K)\n",
    "        if check_termination(labels, labels_new): break\n",
    "        else: labels = labels_new\n",
    " \n",
    "    end_time = time.time() # Time stamp after the algorithm ends\n",
    "    return centers, labels, end_time - start_time "
   ]
  },
  {
   "cell_type": "code",
   "execution_count": null,
   "metadata": {},
   "outputs": [],
   "source": [
    "### TODO 7\n",
    "def visualise(data_path, labels, centers):\n",
    "    data = load_data(data_path)\n",
    "\n",
    "    # Scatter plot of the data points\n",
    "    plt.scatter(data[:, 0], data[:, 1], c=labels, s=50, cmap='viridis')\n",
    "    plt.scatter(centers[:, 0], centers[:, 1], c='black', s=200, alpha=0.5)\n",
    "\n",
    "    ### Set title as 'K-means clustering'\n",
    "    plt.title(\"K-means clustering\")\n",
    "    ### Set xlabel as 'Longitude'\n",
    "    plt.xlabel(\"Longitude\")\n",
    "    ### Set ylabel as 'Latitude'\n",
    "    plt.ylabel(\"Latitude\")\n",
    "    ### Save the plot as 'kmeans.png'\n",
    "    plt.savefig(\"kmeans.png\")\n",
    "    \n",
    "    ## DO NOT CHANGE THE FOLLOWING LINE\n",
    "    return plt"
   ]
  },
  {
   "cell_type": "code",
   "execution_count": null,
   "metadata": {},
   "outputs": [],
   "source": [
    "### After you have completed the above functions, run the following code to generate the plot\n",
    "data_path = 'spice_locations.txt'\n",
    "K, init_centers = 2, None\n",
    "centers, labels, time_taken = kmeans(data_path, K, init_centers)\n",
    "print('Time taken for the algorithm to converge:', time_taken)\n",
    "visualise(data_path, labels, centers)"
   ]
  }
 ],
 "metadata": {
  "kernelspec": {
   "display_name": "tf-2.14",
   "language": "python",
   "name": "python3"
  },
  "language_info": {
   "codemirror_mode": {
    "name": "ipython",
    "version": 3
   },
   "file_extension": ".py",
   "mimetype": "text/x-python",
   "name": "python",
   "nbconvert_exporter": "python",
   "pygments_lexer": "ipython3",
   "version": "3.10.15"
  }
 },
 "nbformat": 4,
 "nbformat_minor": 2
}
